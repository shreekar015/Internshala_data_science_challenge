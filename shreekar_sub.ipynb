{
 "cells": [
  {
   "cell_type": "code",
   "execution_count": 106,
   "metadata": {},
   "outputs": [],
   "source": [
    "# importing libraries\n",
    "import pandas as pd\n",
    "import numpy as np\n",
    "import matplotlib.pyplot as plt\n",
    "%matplotlib inline\n",
    "from catboost import CatBoostRegressor"
   ]
  },
  {
   "cell_type": "code",
   "execution_count": 107,
   "metadata": {},
   "outputs": [],
   "source": [
    "# loadind the data\n",
    "train= pd.read_csv(\"train_qnU1GcL.csv\")\n",
    "test= pd.read_csv(\"test__Szvtp7B_KytlNBf_48WC0Kd_OiVPtdp_ceb0kKC.csv\")"
   ]
  },
  {
   "cell_type": "code",
   "execution_count": 108,
   "metadata": {},
   "outputs": [
    {
     "data": {
      "text/plain": [
       "((79853, 12), (34224, 11))"
      ]
     },
     "execution_count": 108,
     "metadata": {},
     "output_type": "execute_result"
    }
   ],
   "source": [
    "# shape of training and testing data\n",
    "train.shape, test.shape"
   ]
  },
  {
   "cell_type": "code",
   "execution_count": 109,
   "metadata": {},
   "outputs": [
    {
     "data": {
      "text/html": [
       "<div>\n",
       "<style scoped>\n",
       "    .dataframe tbody tr th:only-of-type {\n",
       "        vertical-align: middle;\n",
       "    }\n",
       "\n",
       "    .dataframe tbody tr th {\n",
       "        vertical-align: top;\n",
       "    }\n",
       "\n",
       "    .dataframe thead th {\n",
       "        text-align: right;\n",
       "    }\n",
       "</style>\n",
       "<table border=\"1\" class=\"dataframe\">\n",
       "  <thead>\n",
       "    <tr style=\"text-align: right;\">\n",
       "      <th></th>\n",
       "      <th>id</th>\n",
       "      <th>perc_premium_paid_by_cash_credit</th>\n",
       "      <th>age_in_days</th>\n",
       "      <th>Income</th>\n",
       "      <th>Count_3-6_months_late</th>\n",
       "      <th>Count_6-12_months_late</th>\n",
       "      <th>Count_more_than_12_months_late</th>\n",
       "      <th>application_underwriting_score</th>\n",
       "      <th>no_of_premiums_paid</th>\n",
       "      <th>sourcing_channel</th>\n",
       "      <th>residence_area_type</th>\n",
       "      <th>target</th>\n",
       "    </tr>\n",
       "  </thead>\n",
       "  <tbody>\n",
       "    <tr>\n",
       "      <th>0</th>\n",
       "      <td>110936</td>\n",
       "      <td>0.429</td>\n",
       "      <td>12058</td>\n",
       "      <td>355060</td>\n",
       "      <td>0.0</td>\n",
       "      <td>0.0</td>\n",
       "      <td>0.0</td>\n",
       "      <td>99.02</td>\n",
       "      <td>13</td>\n",
       "      <td>C</td>\n",
       "      <td>Urban</td>\n",
       "      <td>1</td>\n",
       "    </tr>\n",
       "    <tr>\n",
       "      <th>1</th>\n",
       "      <td>41492</td>\n",
       "      <td>0.010</td>\n",
       "      <td>21546</td>\n",
       "      <td>315150</td>\n",
       "      <td>0.0</td>\n",
       "      <td>0.0</td>\n",
       "      <td>0.0</td>\n",
       "      <td>99.89</td>\n",
       "      <td>21</td>\n",
       "      <td>A</td>\n",
       "      <td>Urban</td>\n",
       "      <td>1</td>\n",
       "    </tr>\n",
       "    <tr>\n",
       "      <th>2</th>\n",
       "      <td>31300</td>\n",
       "      <td>0.917</td>\n",
       "      <td>17531</td>\n",
       "      <td>84140</td>\n",
       "      <td>2.0</td>\n",
       "      <td>3.0</td>\n",
       "      <td>1.0</td>\n",
       "      <td>98.69</td>\n",
       "      <td>7</td>\n",
       "      <td>C</td>\n",
       "      <td>Rural</td>\n",
       "      <td>0</td>\n",
       "    </tr>\n",
       "    <tr>\n",
       "      <th>3</th>\n",
       "      <td>19415</td>\n",
       "      <td>0.049</td>\n",
       "      <td>15341</td>\n",
       "      <td>250510</td>\n",
       "      <td>0.0</td>\n",
       "      <td>0.0</td>\n",
       "      <td>0.0</td>\n",
       "      <td>99.57</td>\n",
       "      <td>9</td>\n",
       "      <td>A</td>\n",
       "      <td>Urban</td>\n",
       "      <td>1</td>\n",
       "    </tr>\n",
       "    <tr>\n",
       "      <th>4</th>\n",
       "      <td>99379</td>\n",
       "      <td>0.052</td>\n",
       "      <td>31400</td>\n",
       "      <td>198680</td>\n",
       "      <td>0.0</td>\n",
       "      <td>0.0</td>\n",
       "      <td>0.0</td>\n",
       "      <td>99.87</td>\n",
       "      <td>12</td>\n",
       "      <td>B</td>\n",
       "      <td>Urban</td>\n",
       "      <td>1</td>\n",
       "    </tr>\n",
       "  </tbody>\n",
       "</table>\n",
       "</div>"
      ],
      "text/plain": [
       "       id  perc_premium_paid_by_cash_credit  age_in_days  Income  \\\n",
       "0  110936                             0.429        12058  355060   \n",
       "1   41492                             0.010        21546  315150   \n",
       "2   31300                             0.917        17531   84140   \n",
       "3   19415                             0.049        15341  250510   \n",
       "4   99379                             0.052        31400  198680   \n",
       "\n",
       "   Count_3-6_months_late  Count_6-12_months_late  \\\n",
       "0                    0.0                     0.0   \n",
       "1                    0.0                     0.0   \n",
       "2                    2.0                     3.0   \n",
       "3                    0.0                     0.0   \n",
       "4                    0.0                     0.0   \n",
       "\n",
       "   Count_more_than_12_months_late  application_underwriting_score  \\\n",
       "0                             0.0                           99.02   \n",
       "1                             0.0                           99.89   \n",
       "2                             1.0                           98.69   \n",
       "3                             0.0                           99.57   \n",
       "4                             0.0                           99.87   \n",
       "\n",
       "   no_of_premiums_paid sourcing_channel residence_area_type  target  \n",
       "0                   13                C               Urban       1  \n",
       "1                   21                A               Urban       1  \n",
       "2                    7                C               Rural       0  \n",
       "3                    9                A               Urban       1  \n",
       "4                   12                B               Urban       1  "
      ]
     },
     "execution_count": 109,
     "metadata": {},
     "output_type": "execute_result"
    }
   ],
   "source": [
    "# printing first five rows\n",
    "train.head()"
   ]
  },
  {
   "cell_type": "code",
   "execution_count": 110,
   "metadata": {},
   "outputs": [
    {
     "data": {
      "text/html": [
       "<div>\n",
       "<style scoped>\n",
       "    .dataframe tbody tr th:only-of-type {\n",
       "        vertical-align: middle;\n",
       "    }\n",
       "\n",
       "    .dataframe tbody tr th {\n",
       "        vertical-align: top;\n",
       "    }\n",
       "\n",
       "    .dataframe thead th {\n",
       "        text-align: right;\n",
       "    }\n",
       "</style>\n",
       "<table border=\"1\" class=\"dataframe\">\n",
       "  <thead>\n",
       "    <tr style=\"text-align: right;\">\n",
       "      <th></th>\n",
       "      <th>id</th>\n",
       "      <th>perc_premium_paid_by_cash_credit</th>\n",
       "      <th>age_in_days</th>\n",
       "      <th>Income</th>\n",
       "      <th>Count_3-6_months_late</th>\n",
       "      <th>Count_6-12_months_late</th>\n",
       "      <th>Count_more_than_12_months_late</th>\n",
       "      <th>application_underwriting_score</th>\n",
       "      <th>no_of_premiums_paid</th>\n",
       "      <th>sourcing_channel</th>\n",
       "      <th>residence_area_type</th>\n",
       "    </tr>\n",
       "  </thead>\n",
       "  <tbody>\n",
       "    <tr>\n",
       "      <th>0</th>\n",
       "      <td>649</td>\n",
       "      <td>0.001</td>\n",
       "      <td>27384</td>\n",
       "      <td>51150</td>\n",
       "      <td>0.0</td>\n",
       "      <td>0.0</td>\n",
       "      <td>0.0</td>\n",
       "      <td>99.89</td>\n",
       "      <td>7</td>\n",
       "      <td>A</td>\n",
       "      <td>Rural</td>\n",
       "    </tr>\n",
       "    <tr>\n",
       "      <th>1</th>\n",
       "      <td>81136</td>\n",
       "      <td>0.124</td>\n",
       "      <td>23735</td>\n",
       "      <td>285140</td>\n",
       "      <td>0.0</td>\n",
       "      <td>0.0</td>\n",
       "      <td>0.0</td>\n",
       "      <td>98.93</td>\n",
       "      <td>19</td>\n",
       "      <td>A</td>\n",
       "      <td>Urban</td>\n",
       "    </tr>\n",
       "    <tr>\n",
       "      <th>2</th>\n",
       "      <td>70762</td>\n",
       "      <td>1.000</td>\n",
       "      <td>17170</td>\n",
       "      <td>186030</td>\n",
       "      <td>0.0</td>\n",
       "      <td>0.0</td>\n",
       "      <td>0.0</td>\n",
       "      <td>NaN</td>\n",
       "      <td>2</td>\n",
       "      <td>B</td>\n",
       "      <td>Urban</td>\n",
       "    </tr>\n",
       "    <tr>\n",
       "      <th>3</th>\n",
       "      <td>53935</td>\n",
       "      <td>0.198</td>\n",
       "      <td>16068</td>\n",
       "      <td>123540</td>\n",
       "      <td>0.0</td>\n",
       "      <td>0.0</td>\n",
       "      <td>0.0</td>\n",
       "      <td>99.00</td>\n",
       "      <td>11</td>\n",
       "      <td>B</td>\n",
       "      <td>Rural</td>\n",
       "    </tr>\n",
       "    <tr>\n",
       "      <th>4</th>\n",
       "      <td>15476</td>\n",
       "      <td>0.041</td>\n",
       "      <td>10591</td>\n",
       "      <td>200020</td>\n",
       "      <td>1.0</td>\n",
       "      <td>0.0</td>\n",
       "      <td>0.0</td>\n",
       "      <td>99.17</td>\n",
       "      <td>14</td>\n",
       "      <td>A</td>\n",
       "      <td>Rural</td>\n",
       "    </tr>\n",
       "  </tbody>\n",
       "</table>\n",
       "</div>"
      ],
      "text/plain": [
       "      id  perc_premium_paid_by_cash_credit  age_in_days  Income  \\\n",
       "0    649                             0.001        27384   51150   \n",
       "1  81136                             0.124        23735  285140   \n",
       "2  70762                             1.000        17170  186030   \n",
       "3  53935                             0.198        16068  123540   \n",
       "4  15476                             0.041        10591  200020   \n",
       "\n",
       "   Count_3-6_months_late  Count_6-12_months_late  \\\n",
       "0                    0.0                     0.0   \n",
       "1                    0.0                     0.0   \n",
       "2                    0.0                     0.0   \n",
       "3                    0.0                     0.0   \n",
       "4                    1.0                     0.0   \n",
       "\n",
       "   Count_more_than_12_months_late  application_underwriting_score  \\\n",
       "0                             0.0                           99.89   \n",
       "1                             0.0                           98.93   \n",
       "2                             0.0                             NaN   \n",
       "3                             0.0                           99.00   \n",
       "4                             0.0                           99.17   \n",
       "\n",
       "   no_of_premiums_paid sourcing_channel residence_area_type  \n",
       "0                    7                A               Rural  \n",
       "1                   19                A               Urban  \n",
       "2                    2                B               Urban  \n",
       "3                   11                B               Rural  \n",
       "4                   14                A               Rural  "
      ]
     },
     "execution_count": 110,
     "metadata": {},
     "output_type": "execute_result"
    }
   ],
   "source": [
    "test.head()"
   ]
  },
  {
   "cell_type": "code",
   "execution_count": 111,
   "metadata": {},
   "outputs": [
    {
     "data": {
      "text/plain": [
       "(Index(['id', 'perc_premium_paid_by_cash_credit', 'age_in_days', 'Income',\n",
       "        'Count_3-6_months_late', 'Count_6-12_months_late',\n",
       "        'Count_more_than_12_months_late', 'application_underwriting_score',\n",
       "        'no_of_premiums_paid', 'sourcing_channel', 'residence_area_type',\n",
       "        'target'],\n",
       "       dtype='object'),\n",
       " Index(['id', 'perc_premium_paid_by_cash_credit', 'age_in_days', 'Income',\n",
       "        'Count_3-6_months_late', 'Count_6-12_months_late',\n",
       "        'Count_more_than_12_months_late', 'application_underwriting_score',\n",
       "        'no_of_premiums_paid', 'sourcing_channel', 'residence_area_type'],\n",
       "       dtype='object'))"
      ]
     },
     "execution_count": 111,
     "metadata": {},
     "output_type": "execute_result"
    }
   ],
   "source": [
    "# columns in the dataset\n",
    "train.columns, test.columns"
   ]
  },
  {
   "cell_type": "code",
   "execution_count": 112,
   "metadata": {},
   "outputs": [
    {
     "data": {
      "text/plain": [
       "id                                    int64\n",
       "perc_premium_paid_by_cash_credit    float64\n",
       "age_in_days                           int64\n",
       "Income                                int64\n",
       "Count_3-6_months_late               float64\n",
       "Count_6-12_months_late              float64\n",
       "Count_more_than_12_months_late      float64\n",
       "application_underwriting_score      float64\n",
       "no_of_premiums_paid                   int64\n",
       "sourcing_channel                     object\n",
       "residence_area_type                  object\n",
       "target                                int64\n",
       "dtype: object"
      ]
     },
     "execution_count": 112,
     "metadata": {},
     "output_type": "execute_result"
    }
   ],
   "source": [
    "# Data type of the columns\n",
    "train.dtypes"
   ]
  },
  {
   "cell_type": "code",
   "execution_count": 113,
   "metadata": {},
   "outputs": [],
   "source": [
    "# Removing the unneccesary columns from train and test sata set\n",
    "train = train.drop(['sourcing_channel','residence_area_type'],axis=1)\n",
    "test = test.drop(['residence_area_type','sourcing_channel'], axis=1)"
   ]
  },
  {
   "cell_type": "code",
   "execution_count": 114,
   "metadata": {},
   "outputs": [
    {
     "data": {
      "text/plain": [
       "<AxesSubplot:ylabel='Frequency'>"
      ]
     },
     "execution_count": 114,
     "metadata": {},
     "output_type": "execute_result"
    },
    {
     "data": {
      "image/png": "[encoded data removed]",
      "text/plain": [
       "<Figure size 432x288 with 1 Axes>"
      ]
     },
     "metadata": {
      "needs_background": "light"
     },
     "output_type": "display_data"
    }
   ],
   "source": [
    "# distribution of target variable\n",
    "train['target'].plot.hist()"
   ]
  },
  {
   "cell_type": "code",
   "execution_count": 115,
   "metadata": {},
   "outputs": [],
   "source": [
    "# looking at the correlation between variables\n",
    "corr= train.corr()"
   ]
  },
  {
   "cell_type": "code",
   "execution_count": 116,
   "metadata": {},
   "outputs": [
    {
     "data": {
      "text/html": [
       "<div>\n",
       "<style scoped>\n",
       "    .dataframe tbody tr th:only-of-type {\n",
       "        vertical-align: middle;\n",
       "    }\n",
       "\n",
       "    .dataframe tbody tr th {\n",
       "        vertical-align: top;\n",
       "    }\n",
       "\n",
       "    .dataframe thead th {\n",
       "        text-align: right;\n",
       "    }\n",
       "</style>\n",
       "<table border=\"1\" class=\"dataframe\">\n",
       "  <thead>\n",
       "    <tr style=\"text-align: right;\">\n",
       "      <th></th>\n",
       "      <th>id</th>\n",
       "      <th>perc_premium_paid_by_cash_credit</th>\n",
       "      <th>age_in_days</th>\n",
       "      <th>Income</th>\n",
       "      <th>Count_3-6_months_late</th>\n",
       "      <th>Count_6-12_months_late</th>\n",
       "      <th>Count_more_than_12_months_late</th>\n",
       "      <th>application_underwriting_score</th>\n",
       "      <th>no_of_premiums_paid</th>\n",
       "      <th>target</th>\n",
       "    </tr>\n",
       "  </thead>\n",
       "  <tbody>\n",
       "    <tr>\n",
       "      <th>id</th>\n",
       "      <td>1.000000</td>\n",
       "      <td>-0.004833</td>\n",
       "      <td>0.005184</td>\n",
       "      <td>-0.001798</td>\n",
       "      <td>-0.005660</td>\n",
       "      <td>-0.002125</td>\n",
       "      <td>0.003424</td>\n",
       "      <td>-0.002124</td>\n",
       "      <td>-0.003328</td>\n",
       "      <td>-0.005064</td>\n",
       "    </tr>\n",
       "    <tr>\n",
       "      <th>perc_premium_paid_by_cash_credit</th>\n",
       "      <td>-0.004833</td>\n",
       "      <td>1.000000</td>\n",
       "      <td>-0.259131</td>\n",
       "      <td>-0.031868</td>\n",
       "      <td>0.214470</td>\n",
       "      <td>0.214951</td>\n",
       "      <td>0.168125</td>\n",
       "      <td>-0.142670</td>\n",
       "      <td>-0.152837</td>\n",
       "      <td>-0.240980</td>\n",
       "    </tr>\n",
       "    <tr>\n",
       "      <th>age_in_days</th>\n",
       "      <td>0.005184</td>\n",
       "      <td>-0.259131</td>\n",
       "      <td>1.000000</td>\n",
       "      <td>0.029308</td>\n",
       "      <td>-0.058366</td>\n",
       "      <td>-0.072731</td>\n",
       "      <td>-0.059407</td>\n",
       "      <td>0.049888</td>\n",
       "      <td>0.176544</td>\n",
       "      <td>0.095103</td>\n",
       "    </tr>\n",
       "    <tr>\n",
       "      <th>Income</th>\n",
       "      <td>-0.001798</td>\n",
       "      <td>-0.031868</td>\n",
       "      <td>0.029308</td>\n",
       "      <td>1.000000</td>\n",
       "      <td>-0.001403</td>\n",
       "      <td>-0.017347</td>\n",
       "      <td>-0.012399</td>\n",
       "      <td>0.085746</td>\n",
       "      <td>0.079078</td>\n",
       "      <td>0.016541</td>\n",
       "    </tr>\n",
       "    <tr>\n",
       "      <th>Count_3-6_months_late</th>\n",
       "      <td>-0.005660</td>\n",
       "      <td>0.214470</td>\n",
       "      <td>-0.058366</td>\n",
       "      <td>-0.001403</td>\n",
       "      <td>1.000000</td>\n",
       "      <td>0.204228</td>\n",
       "      <td>0.296085</td>\n",
       "      <td>-0.082781</td>\n",
       "      <td>0.075828</td>\n",
       "      <td>-0.248900</td>\n",
       "    </tr>\n",
       "    <tr>\n",
       "      <th>Count_6-12_months_late</th>\n",
       "      <td>-0.002125</td>\n",
       "      <td>0.214951</td>\n",
       "      <td>-0.072731</td>\n",
       "      <td>-0.017347</td>\n",
       "      <td>0.204228</td>\n",
       "      <td>1.000000</td>\n",
       "      <td>0.266306</td>\n",
       "      <td>0.004785</td>\n",
       "      <td>-0.093133</td>\n",
       "      <td>-0.286159</td>\n",
       "    </tr>\n",
       "    <tr>\n",
       "      <th>Count_more_than_12_months_late</th>\n",
       "      <td>0.003424</td>\n",
       "      <td>0.168125</td>\n",
       "      <td>-0.059407</td>\n",
       "      <td>-0.012399</td>\n",
       "      <td>0.296085</td>\n",
       "      <td>0.266306</td>\n",
       "      <td>1.000000</td>\n",
       "      <td>-0.031726</td>\n",
       "      <td>-0.021848</td>\n",
       "      <td>-0.240385</td>\n",
       "    </tr>\n",
       "    <tr>\n",
       "      <th>application_underwriting_score</th>\n",
       "      <td>-0.002124</td>\n",
       "      <td>-0.142670</td>\n",
       "      <td>0.049888</td>\n",
       "      <td>0.085746</td>\n",
       "      <td>-0.082781</td>\n",
       "      <td>0.004785</td>\n",
       "      <td>-0.031726</td>\n",
       "      <td>1.000000</td>\n",
       "      <td>-0.270864</td>\n",
       "      <td>0.068715</td>\n",
       "    </tr>\n",
       "    <tr>\n",
       "      <th>no_of_premiums_paid</th>\n",
       "      <td>-0.003328</td>\n",
       "      <td>-0.152837</td>\n",
       "      <td>0.176544</td>\n",
       "      <td>0.079078</td>\n",
       "      <td>0.075828</td>\n",
       "      <td>-0.093133</td>\n",
       "      <td>-0.021848</td>\n",
       "      <td>-0.270864</td>\n",
       "      <td>1.000000</td>\n",
       "      <td>0.022664</td>\n",
       "    </tr>\n",
       "    <tr>\n",
       "      <th>target</th>\n",
       "      <td>-0.005064</td>\n",
       "      <td>-0.240980</td>\n",
       "      <td>0.095103</td>\n",
       "      <td>0.016541</td>\n",
       "      <td>-0.248900</td>\n",
       "      <td>-0.286159</td>\n",
       "      <td>-0.240385</td>\n",
       "      <td>0.068715</td>\n",
       "      <td>0.022664</td>\n",
       "      <td>1.000000</td>\n",
       "    </tr>\n",
       "  </tbody>\n",
       "</table>\n",
       "</div>"
      ],
      "text/plain": [
       "                                        id  perc_premium_paid_by_cash_credit  \\\n",
       "id                                1.000000                         -0.004833   \n",
       "perc_premium_paid_by_cash_credit -0.004833                          1.000000   \n",
       "age_in_days                       0.005184                         -0.259131   \n",
       "Income                           -0.001798                         -0.031868   \n",
       "Count_3-6_months_late            -0.005660                          0.214470   \n",
       "Count_6-12_months_late           -0.002125                          0.214951   \n",
       "Count_more_than_12_months_late    0.003424                          0.168125   \n",
       "application_underwriting_score   -0.002124                         -0.142670   \n",
       "no_of_premiums_paid              -0.003328                         -0.152837   \n",
       "target                           -0.005064                         -0.240980   \n",
       "\n",
       "                                  age_in_days    Income  \\\n",
       "id                                   0.005184 -0.001798   \n",
       "perc_premium_paid_by_cash_credit    -0.259131 -0.031868   \n",
       "age_in_days                          1.000000  0.029308   \n",
       "Income                               0.029308  1.000000   \n",
       "Count_3-6_months_late               -0.058366 -0.001403   \n",
       "Count_6-12_months_late              -0.072731 -0.017347   \n",
       "Count_more_than_12_months_late      -0.059407 -0.012399   \n",
       "application_underwriting_score       0.049888  0.085746   \n",
       "no_of_premiums_paid                  0.176544  0.079078   \n",
       "target                               0.095103  0.016541   \n",
       "\n",
       "                                  Count_3-6_months_late  \\\n",
       "id                                            -0.005660   \n",
       "perc_premium_paid_by_cash_credit               0.214470   \n",
       "age_in_days                                   -0.058366   \n",
       "Income                                        -0.001403   \n",
       "Count_3-6_months_late                          1.000000   \n",
       "Count_6-12_months_late                         0.204228   \n",
       "Count_more_than_12_months_late                 0.296085   \n",
       "application_underwriting_score                -0.082781   \n",
       "no_of_premiums_paid                            0.075828   \n",
       "target                                        -0.248900   \n",
       "\n",
       "                                  Count_6-12_months_late  \\\n",
       "id                                             -0.002125   \n",
       "perc_premium_paid_by_cash_credit                0.214951   \n",
       "age_in_days                                    -0.072731   \n",
       "Income                                         -0.017347   \n",
       "Count_3-6_months_late                           0.204228   \n",
       "Count_6-12_months_late                          1.000000   \n",
       "Count_more_than_12_months_late                  0.266306   \n",
       "application_underwriting_score                  0.004785   \n",
       "no_of_premiums_paid                            -0.093133   \n",
       "target                                         -0.286159   \n",
       "\n",
       "                                  Count_more_than_12_months_late  \\\n",
       "id                                                      0.003424   \n",
       "perc_premium_paid_by_cash_credit                        0.168125   \n",
       "age_in_days                                            -0.059407   \n",
       "Income                                                 -0.012399   \n",
       "Count_3-6_months_late                                   0.296085   \n",
       "Count_6-12_months_late                                  0.266306   \n",
       "Count_more_than_12_months_late                          1.000000   \n",
       "application_underwriting_score                         -0.031726   \n",
       "no_of_premiums_paid                                    -0.021848   \n",
       "target                                                 -0.240385   \n",
       "\n",
       "                                  application_underwriting_score  \\\n",
       "id                                                     -0.002124   \n",
       "perc_premium_paid_by_cash_credit                       -0.142670   \n",
       "age_in_days                                             0.049888   \n",
       "Income                                                  0.085746   \n",
       "Count_3-6_months_late                                  -0.082781   \n",
       "Count_6-12_months_late                                  0.004785   \n",
       "Count_more_than_12_months_late                         -0.031726   \n",
       "application_underwriting_score                          1.000000   \n",
       "no_of_premiums_paid                                    -0.270864   \n",
       "target                                                  0.068715   \n",
       "\n",
       "                                  no_of_premiums_paid    target  \n",
       "id                                          -0.003328 -0.005064  \n",
       "perc_premium_paid_by_cash_credit            -0.152837 -0.240980  \n",
       "age_in_days                                  0.176544  0.095103  \n",
       "Income                                       0.079078  0.016541  \n",
       "Count_3-6_months_late                        0.075828 -0.248900  \n",
       "Count_6-12_months_late                      -0.093133 -0.286159  \n",
       "Count_more_than_12_months_late              -0.021848 -0.240385  \n",
       "application_underwriting_score              -0.270864  0.068715  \n",
       "no_of_premiums_paid                          1.000000  0.022664  \n",
       "target                                       0.022664  1.000000  "
      ]
     },
     "execution_count": 116,
     "metadata": {},
     "output_type": "execute_result"
    }
   ],
   "source": [
    "corr"
   ]
  },
  {
   "cell_type": "code",
   "execution_count": 117,
   "metadata": {},
   "outputs": [
    {
     "data": {
      "text/plain": [
       "id                                     0\n",
       "perc_premium_paid_by_cash_credit       0\n",
       "age_in_days                            0\n",
       "Income                                 0\n",
       "Count_3-6_months_late                 97\n",
       "Count_6-12_months_late                97\n",
       "Count_more_than_12_months_late        97\n",
       "application_underwriting_score      2974\n",
       "no_of_premiums_paid                    0\n",
       "target                                 0\n",
       "dtype: int64"
      ]
     },
     "execution_count": 117,
     "metadata": {},
     "output_type": "execute_result"
    }
   ],
   "source": [
    "# looking for missing values in the datasaet\n",
    "train.isnull().sum()"
   ]
  },
  {
   "cell_type": "code",
   "execution_count": 118,
   "metadata": {},
   "outputs": [
    {
     "data": {
      "text/plain": [
       "id                                     0\n",
       "perc_premium_paid_by_cash_credit       0\n",
       "age_in_days                            0\n",
       "Income                                 0\n",
       "Count_3-6_months_late                 31\n",
       "Count_6-12_months_late                31\n",
       "Count_more_than_12_months_late        31\n",
       "application_underwriting_score      1323\n",
       "no_of_premiums_paid                    0\n",
       "dtype: int64"
      ]
     },
     "execution_count": 118,
     "metadata": {},
     "output_type": "execute_result"
    }
   ],
   "source": [
    "test.isnull().sum()"
   ]
  },
  {
   "cell_type": "code",
   "execution_count": 119,
   "metadata": {},
   "outputs": [
    {
     "data": {
      "text/html": [
       "<div>\n",
       "<style scoped>\n",
       "    .dataframe tbody tr th:only-of-type {\n",
       "        vertical-align: middle;\n",
       "    }\n",
       "\n",
       "    .dataframe tbody tr th {\n",
       "        vertical-align: top;\n",
       "    }\n",
       "\n",
       "    .dataframe thead th {\n",
       "        text-align: right;\n",
       "    }\n",
       "</style>\n",
       "<table border=\"1\" class=\"dataframe\">\n",
       "  <thead>\n",
       "    <tr style=\"text-align: right;\">\n",
       "      <th></th>\n",
       "      <th>id</th>\n",
       "      <th>perc_premium_paid_by_cash_credit</th>\n",
       "      <th>age_in_days</th>\n",
       "      <th>Income</th>\n",
       "      <th>Count_3-6_months_late</th>\n",
       "      <th>Count_6-12_months_late</th>\n",
       "      <th>Count_more_than_12_months_late</th>\n",
       "      <th>application_underwriting_score</th>\n",
       "      <th>no_of_premiums_paid</th>\n",
       "      <th>target</th>\n",
       "    </tr>\n",
       "  </thead>\n",
       "  <tbody>\n",
       "    <tr>\n",
       "      <th>count</th>\n",
       "      <td>79853.000000</td>\n",
       "      <td>79853.000000</td>\n",
       "      <td>79853.000000</td>\n",
       "      <td>7.985300e+04</td>\n",
       "      <td>79756.000000</td>\n",
       "      <td>79756.000000</td>\n",
       "      <td>79756.000000</td>\n",
       "      <td>76879.000000</td>\n",
       "      <td>79853.000000</td>\n",
       "      <td>79853.000000</td>\n",
       "    </tr>\n",
       "    <tr>\n",
       "      <th>mean</th>\n",
       "      <td>57167.166368</td>\n",
       "      <td>0.314288</td>\n",
       "      <td>18846.696906</td>\n",
       "      <td>2.088472e+05</td>\n",
       "      <td>0.248671</td>\n",
       "      <td>0.078188</td>\n",
       "      <td>0.060008</td>\n",
       "      <td>99.067291</td>\n",
       "      <td>10.863887</td>\n",
       "      <td>0.937410</td>\n",
       "    </tr>\n",
       "    <tr>\n",
       "      <th>std</th>\n",
       "      <td>32928.970160</td>\n",
       "      <td>0.334915</td>\n",
       "      <td>5208.719136</td>\n",
       "      <td>4.965826e+05</td>\n",
       "      <td>0.691468</td>\n",
       "      <td>0.436507</td>\n",
       "      <td>0.312023</td>\n",
       "      <td>0.739799</td>\n",
       "      <td>5.170687</td>\n",
       "      <td>0.242226</td>\n",
       "    </tr>\n",
       "    <tr>\n",
       "      <th>min</th>\n",
       "      <td>2.000000</td>\n",
       "      <td>0.000000</td>\n",
       "      <td>7670.000000</td>\n",
       "      <td>2.403000e+04</td>\n",
       "      <td>0.000000</td>\n",
       "      <td>0.000000</td>\n",
       "      <td>0.000000</td>\n",
       "      <td>91.900000</td>\n",
       "      <td>2.000000</td>\n",
       "      <td>0.000000</td>\n",
       "    </tr>\n",
       "    <tr>\n",
       "      <th>25%</th>\n",
       "      <td>28640.000000</td>\n",
       "      <td>0.034000</td>\n",
       "      <td>14974.000000</td>\n",
       "      <td>1.080100e+05</td>\n",
       "      <td>0.000000</td>\n",
       "      <td>0.000000</td>\n",
       "      <td>0.000000</td>\n",
       "      <td>98.810000</td>\n",
       "      <td>7.000000</td>\n",
       "      <td>1.000000</td>\n",
       "    </tr>\n",
       "    <tr>\n",
       "      <th>50%</th>\n",
       "      <td>57262.000000</td>\n",
       "      <td>0.167000</td>\n",
       "      <td>18625.000000</td>\n",
       "      <td>1.665600e+05</td>\n",
       "      <td>0.000000</td>\n",
       "      <td>0.000000</td>\n",
       "      <td>0.000000</td>\n",
       "      <td>99.210000</td>\n",
       "      <td>10.000000</td>\n",
       "      <td>1.000000</td>\n",
       "    </tr>\n",
       "    <tr>\n",
       "      <th>75%</th>\n",
       "      <td>85632.000000</td>\n",
       "      <td>0.538000</td>\n",
       "      <td>22636.000000</td>\n",
       "      <td>2.520900e+05</td>\n",
       "      <td>0.000000</td>\n",
       "      <td>0.000000</td>\n",
       "      <td>0.000000</td>\n",
       "      <td>99.540000</td>\n",
       "      <td>14.000000</td>\n",
       "      <td>1.000000</td>\n",
       "    </tr>\n",
       "    <tr>\n",
       "      <th>max</th>\n",
       "      <td>114076.000000</td>\n",
       "      <td>1.000000</td>\n",
       "      <td>37602.000000</td>\n",
       "      <td>9.026260e+07</td>\n",
       "      <td>13.000000</td>\n",
       "      <td>17.000000</td>\n",
       "      <td>11.000000</td>\n",
       "      <td>99.890000</td>\n",
       "      <td>60.000000</td>\n",
       "      <td>1.000000</td>\n",
       "    </tr>\n",
       "  </tbody>\n",
       "</table>\n",
       "</div>"
      ],
      "text/plain": [
       "                  id  perc_premium_paid_by_cash_credit   age_in_days  \\\n",
       "count   79853.000000                      79853.000000  79853.000000   \n",
       "mean    57167.166368                          0.314288  18846.696906   \n",
       "std     32928.970160                          0.334915   5208.719136   \n",
       "min         2.000000                          0.000000   7670.000000   \n",
       "25%     28640.000000                          0.034000  14974.000000   \n",
       "50%     57262.000000                          0.167000  18625.000000   \n",
       "75%     85632.000000                          0.538000  22636.000000   \n",
       "max    114076.000000                          1.000000  37602.000000   \n",
       "\n",
       "             Income  Count_3-6_months_late  Count_6-12_months_late  \\\n",
       "count  7.985300e+04           79756.000000            79756.000000   \n",
       "mean   2.088472e+05               0.248671                0.078188   \n",
       "std    4.965826e+05               0.691468                0.436507   \n",
       "min    2.403000e+04               0.000000                0.000000   \n",
       "25%    1.080100e+05               0.000000                0.000000   \n",
       "50%    1.665600e+05               0.000000                0.000000   \n",
       "75%    2.520900e+05               0.000000                0.000000   \n",
       "max    9.026260e+07              13.000000               17.000000   \n",
       "\n",
       "       Count_more_than_12_months_late  application_underwriting_score  \\\n",
       "count                    79756.000000                    76879.000000   \n",
       "mean                         0.060008                       99.067291   \n",
       "std                          0.312023                        0.739799   \n",
       "min                          0.000000                       91.900000   \n",
       "25%                          0.000000                       98.810000   \n",
       "50%                          0.000000                       99.210000   \n",
       "75%                          0.000000                       99.540000   \n",
       "max                         11.000000                       99.890000   \n",
       "\n",
       "       no_of_premiums_paid        target  \n",
       "count         79853.000000  79853.000000  \n",
       "mean             10.863887      0.937410  \n",
       "std               5.170687      0.242226  \n",
       "min               2.000000      0.000000  \n",
       "25%               7.000000      1.000000  \n",
       "50%              10.000000      1.000000  \n",
       "75%              14.000000      1.000000  \n",
       "max              60.000000      1.000000  "
      ]
     },
     "execution_count": 119,
     "metadata": {},
     "output_type": "execute_result"
    }
   ],
   "source": [
    "# checking for central statistics\n",
    "train.describe()"
   ]
  },
  {
   "cell_type": "code",
   "execution_count": 120,
   "metadata": {},
   "outputs": [],
   "source": [
    "# treating the missing values\n",
    "train['Count_3-6_months_late'].fillna(0, inplace=True)\n",
    "train['Count_6-12_months_late'].fillna(0, inplace=True)\n",
    "train['Count_more_than_12_months_late'].fillna(0, inplace=True)"
   ]
  },
  {
   "cell_type": "code",
   "execution_count": 121,
   "metadata": {},
   "outputs": [],
   "source": [
    "test['Count_3-6_months_late'].fillna(0, inplace=True)\n",
    "test['Count_6-12_months_late'].fillna(0, inplace=True)\n",
    "test['Count_more_than_12_months_late'].fillna(0, inplace=True)"
   ]
  },
  {
   "cell_type": "code",
   "execution_count": 122,
   "metadata": {},
   "outputs": [],
   "source": [
    "train['application_underwriting_score'].fillna(train['application_underwriting_score'].mean(), inplace=True)\n",
    "test['application_underwriting_score'].fillna(test['application_underwriting_score'].mean(), inplace=True)"
   ]
  },
  {
   "cell_type": "code",
   "execution_count": 123,
   "metadata": {},
   "outputs": [
    {
     "data": {
      "text/plain": [
       "id                                  0\n",
       "perc_premium_paid_by_cash_credit    0\n",
       "age_in_days                         0\n",
       "Income                              0\n",
       "Count_3-6_months_late               0\n",
       "Count_6-12_months_late              0\n",
       "Count_more_than_12_months_late      0\n",
       "application_underwriting_score      0\n",
       "no_of_premiums_paid                 0\n",
       "dtype: int64"
      ]
     },
     "execution_count": 123,
     "metadata": {},
     "output_type": "execute_result"
    }
   ],
   "source": [
    "# looking for missing values in the datasaet\n",
    "test.isnull().sum()"
   ]
  },
  {
   "cell_type": "code",
   "execution_count": 124,
   "metadata": {},
   "outputs": [
    {
     "data": {
      "text/plain": [
       "id                                  0\n",
       "perc_premium_paid_by_cash_credit    0\n",
       "age_in_days                         0\n",
       "Income                              0\n",
       "Count_3-6_months_late               0\n",
       "Count_6-12_months_late              0\n",
       "Count_more_than_12_months_late      0\n",
       "application_underwriting_score      0\n",
       "no_of_premiums_paid                 0\n",
       "target                              0\n",
       "dtype: int64"
      ]
     },
     "execution_count": 124,
     "metadata": {},
     "output_type": "execute_result"
    }
   ],
   "source": [
    "train.isnull().sum()"
   ]
  },
  {
   "cell_type": "code",
   "execution_count": 125,
   "metadata": {},
   "outputs": [],
   "source": [
    "# breaking the training set into two to check the model\n",
    "training= train[:60000]\n",
    "validation= train[60000:]"
   ]
  },
  {
   "cell_type": "code",
   "execution_count": 126,
   "metadata": {},
   "outputs": [],
   "source": [
    "x_train= training.drop('target', axis=1)\n",
    "y_train= training['target']\n",
    "x_val= validation.drop('target', axis=1)\n",
    "y_val= validation['target']"
   ]
  },
  {
   "cell_type": "code",
   "execution_count": 127,
   "metadata": {},
   "outputs": [],
   "source": [
    "from sklearn.linear_model import LogisticRegression"
   ]
  },
  {
   "cell_type": "code",
   "execution_count": 128,
   "metadata": {},
   "outputs": [],
   "source": [
    "# initialize the logistic regression model\n",
    "logreg= LogisticRegression()"
   ]
  },
  {
   "cell_type": "code",
   "execution_count": 129,
   "metadata": {},
   "outputs": [
    {
     "data": {
      "text/plain": [
       "LogisticRegression()"
      ]
     },
     "execution_count": 129,
     "metadata": {},
     "output_type": "execute_result"
    }
   ],
   "source": [
    "# fitting the model on x_train and y_train\n",
    "logreg.fit(x_train, y_train)"
   ]
  },
  {
   "cell_type": "code",
   "execution_count": 130,
   "metadata": {},
   "outputs": [
    {
     "data": {
      "text/plain": [
       "((60000, 9), (60000,), (19853, 9), (19853,))"
      ]
     },
     "execution_count": 130,
     "metadata": {},
     "output_type": "execute_result"
    }
   ],
   "source": [
    "# checking the shape of x_train, y_train, x_val and y_val\n",
    "x_train.shape,y_train.shape,x_val.shape,y_val.shape"
   ]
  },
  {
   "cell_type": "code",
   "execution_count": 131,
   "metadata": {},
   "outputs": [],
   "source": [
    "# making prediction on validation set\n",
    "pred= logreg.predict(x_val)"
   ]
  },
  {
   "cell_type": "code",
   "execution_count": 132,
   "metadata": {},
   "outputs": [],
   "source": [
    "# defining a function which will return the rmse score\n",
    "def rmse(y, y_):\n",
    "    y = np.exp(y),   \n",
    "    y_ = np.exp(y_)\n",
    "    log1 = np.nan_to_num(np.array([np.log(v + 1) for v in y]))\n",
    "    log2 = np.nan_to_num(np.array([np.log(v + 1) for v in y_]))\n",
    "    calc = (log1 - log2) ** 2\n",
    "    return np.sqrt(np.mean(calc))"
   ]
  },
  {
   "cell_type": "code",
   "execution_count": 133,
   "metadata": {},
   "outputs": [
    {
     "data": {
      "text/plain": [
       "0.15271161270238282"
      ]
     },
     "execution_count": 133,
     "metadata": {},
     "output_type": "execute_result"
    }
   ],
   "source": [
    "# calculating rmse of the predicted values\n",
    "rmse(y_val,pred)"
   ]
  },
  {
   "cell_type": "code",
   "execution_count": 134,
   "metadata": {},
   "outputs": [
    {
     "data": {
      "text/plain": [
       "0.939354253765174"
      ]
     },
     "execution_count": 134,
     "metadata": {},
     "output_type": "execute_result"
    }
   ],
   "source": [
    "logreg.score(x_val,y_val)"
   ]
  },
  {
   "cell_type": "code",
   "execution_count": 135,
   "metadata": {},
   "outputs": [],
   "source": [
    " from catboost import CatBoostRegressor"
   ]
  },
  {
   "cell_type": "code",
   "execution_count": 136,
   "metadata": {},
   "outputs": [],
   "source": [
    "# initialize the catboost regressor model\n",
    "cbr= CatBoostRegressor(iterations=300, depth=4, learning_rate=0.069, loss_function='RMSE' )"
   ]
  },
  {
   "cell_type": "code",
   "execution_count": 137,
   "metadata": {},
   "outputs": [
    {
     "name": "stdout",
     "output_type": "stream",
     "text": [
      "0:\tlearn: 0.2408952\ttotal: 21.8ms\tremaining: 6.52s\n",
      "1:\tlearn: 0.2388311\ttotal: 46.2ms\tremaining: 6.88s\n",
      "2:\tlearn: 0.2368771\ttotal: 67.3ms\tremaining: 6.67s\n",
      "3:\tlearn: 0.2352837\ttotal: 88.7ms\tremaining: 6.57s\n",
      "4:\tlearn: 0.2337549\ttotal: 111ms\tremaining: 6.56s\n",
      "5:\tlearn: 0.2324105\ttotal: 132ms\tremaining: 6.47s\n",
      "6:\tlearn: 0.2313486\ttotal: 153ms\tremaining: 6.41s\n",
      "7:\tlearn: 0.2302947\ttotal: 175ms\tremaining: 6.38s\n",
      "8:\tlearn: 0.2294042\ttotal: 189ms\tremaining: 6.1s\n",
      "9:\tlearn: 0.2285931\ttotal: 198ms\tremaining: 5.75s\n",
      "10:\tlearn: 0.2278348\ttotal: 207ms\tremaining: 5.44s\n",
      "11:\tlearn: 0.2272201\ttotal: 215ms\tremaining: 5.17s\n",
      "12:\tlearn: 0.2266413\ttotal: 223ms\tremaining: 4.93s\n",
      "13:\tlearn: 0.2260702\ttotal: 232ms\tremaining: 4.75s\n",
      "14:\tlearn: 0.2255914\ttotal: 240ms\tremaining: 4.55s\n",
      "15:\tlearn: 0.2251676\ttotal: 248ms\tremaining: 4.39s\n",
      "16:\tlearn: 0.2247494\ttotal: 255ms\tremaining: 4.24s\n",
      "17:\tlearn: 0.2244088\ttotal: 262ms\tremaining: 4.1s\n",
      "18:\tlearn: 0.2240864\ttotal: 269ms\tremaining: 3.98s\n",
      "19:\tlearn: 0.2237845\ttotal: 276ms\tremaining: 3.86s\n",
      "20:\tlearn: 0.2235483\ttotal: 283ms\tremaining: 3.76s\n",
      "21:\tlearn: 0.2232890\ttotal: 290ms\tremaining: 3.66s\n",
      "22:\tlearn: 0.2230911\ttotal: 297ms\tremaining: 3.57s\n",
      "23:\tlearn: 0.2228918\ttotal: 304ms\tremaining: 3.49s\n",
      "24:\tlearn: 0.2227088\ttotal: 312ms\tremaining: 3.43s\n",
      "25:\tlearn: 0.2225361\ttotal: 319ms\tremaining: 3.36s\n",
      "26:\tlearn: 0.2223670\ttotal: 326ms\tremaining: 3.3s\n",
      "27:\tlearn: 0.2222190\ttotal: 333ms\tremaining: 3.24s\n",
      "28:\tlearn: 0.2220976\ttotal: 340ms\tremaining: 3.18s\n",
      "29:\tlearn: 0.2219748\ttotal: 347ms\tremaining: 3.13s\n",
      "30:\tlearn: 0.2218567\ttotal: 355ms\tremaining: 3.08s\n",
      "31:\tlearn: 0.2217417\ttotal: 361ms\tremaining: 3.02s\n",
      "32:\tlearn: 0.2216339\ttotal: 367ms\tremaining: 2.97s\n",
      "33:\tlearn: 0.2215424\ttotal: 374ms\tremaining: 2.92s\n",
      "34:\tlearn: 0.2214583\ttotal: 381ms\tremaining: 2.88s\n",
      "35:\tlearn: 0.2213725\ttotal: 388ms\tremaining: 2.84s\n",
      "36:\tlearn: 0.2212955\ttotal: 396ms\tremaining: 2.81s\n",
      "37:\tlearn: 0.2212289\ttotal: 403ms\tremaining: 2.78s\n",
      "38:\tlearn: 0.2211517\ttotal: 409ms\tremaining: 2.74s\n",
      "39:\tlearn: 0.2211029\ttotal: 415ms\tremaining: 2.7s\n",
      "40:\tlearn: 0.2210252\ttotal: 422ms\tremaining: 2.67s\n",
      "41:\tlearn: 0.2209707\ttotal: 428ms\tremaining: 2.63s\n",
      "42:\tlearn: 0.2209136\ttotal: 435ms\tremaining: 2.6s\n",
      "43:\tlearn: 0.2208741\ttotal: 441ms\tremaining: 2.57s\n",
      "44:\tlearn: 0.2208290\ttotal: 448ms\tremaining: 2.54s\n",
      "45:\tlearn: 0.2207816\ttotal: 454ms\tremaining: 2.51s\n",
      "46:\tlearn: 0.2207439\ttotal: 460ms\tremaining: 2.48s\n",
      "47:\tlearn: 0.2206901\ttotal: 467ms\tremaining: 2.45s\n",
      "48:\tlearn: 0.2206416\ttotal: 473ms\tremaining: 2.42s\n",
      "49:\tlearn: 0.2206040\ttotal: 480ms\tremaining: 2.4s\n",
      "50:\tlearn: 0.2205628\ttotal: 486ms\tremaining: 2.37s\n",
      "51:\tlearn: 0.2205212\ttotal: 493ms\tremaining: 2.35s\n",
      "52:\tlearn: 0.2204880\ttotal: 499ms\tremaining: 2.33s\n",
      "53:\tlearn: 0.2204482\ttotal: 506ms\tremaining: 2.3s\n",
      "54:\tlearn: 0.2204038\ttotal: 511ms\tremaining: 2.28s\n",
      "55:\tlearn: 0.2203722\ttotal: 518ms\tremaining: 2.26s\n",
      "56:\tlearn: 0.2203479\ttotal: 526ms\tremaining: 2.24s\n",
      "57:\tlearn: 0.2203025\ttotal: 533ms\tremaining: 2.22s\n",
      "58:\tlearn: 0.2202817\ttotal: 540ms\tremaining: 2.21s\n",
      "59:\tlearn: 0.2202561\ttotal: 547ms\tremaining: 2.19s\n",
      "60:\tlearn: 0.2202124\ttotal: 555ms\tremaining: 2.17s\n",
      "61:\tlearn: 0.2201767\ttotal: 563ms\tremaining: 2.16s\n",
      "62:\tlearn: 0.2201491\ttotal: 571ms\tremaining: 2.15s\n",
      "63:\tlearn: 0.2201157\ttotal: 580ms\tremaining: 2.14s\n",
      "64:\tlearn: 0.2200810\ttotal: 587ms\tremaining: 2.12s\n",
      "65:\tlearn: 0.2200443\ttotal: 593ms\tremaining: 2.1s\n",
      "66:\tlearn: 0.2200107\ttotal: 600ms\tremaining: 2.08s\n",
      "67:\tlearn: 0.2199925\ttotal: 606ms\tremaining: 2.07s\n",
      "68:\tlearn: 0.2199605\ttotal: 613ms\tremaining: 2.05s\n",
      "69:\tlearn: 0.2199327\ttotal: 619ms\tremaining: 2.03s\n",
      "70:\tlearn: 0.2199042\ttotal: 625ms\tremaining: 2.02s\n",
      "71:\tlearn: 0.2198879\ttotal: 631ms\tremaining: 2s\n",
      "72:\tlearn: 0.2198699\ttotal: 638ms\tremaining: 1.98s\n",
      "73:\tlearn: 0.2198449\ttotal: 644ms\tremaining: 1.97s\n",
      "74:\tlearn: 0.2198312\ttotal: 650ms\tremaining: 1.95s\n",
      "75:\tlearn: 0.2198089\ttotal: 657ms\tremaining: 1.94s\n",
      "76:\tlearn: 0.2197781\ttotal: 663ms\tremaining: 1.92s\n",
      "77:\tlearn: 0.2197575\ttotal: 669ms\tremaining: 1.9s\n",
      "78:\tlearn: 0.2197234\ttotal: 675ms\tremaining: 1.89s\n",
      "79:\tlearn: 0.2196938\ttotal: 681ms\tremaining: 1.87s\n",
      "80:\tlearn: 0.2196766\ttotal: 687ms\tremaining: 1.86s\n",
      "81:\tlearn: 0.2196463\ttotal: 694ms\tremaining: 1.84s\n",
      "82:\tlearn: 0.2196195\ttotal: 700ms\tremaining: 1.83s\n",
      "83:\tlearn: 0.2195955\ttotal: 706ms\tremaining: 1.81s\n",
      "84:\tlearn: 0.2195685\ttotal: 713ms\tremaining: 1.8s\n",
      "85:\tlearn: 0.2195519\ttotal: 720ms\tremaining: 1.79s\n",
      "86:\tlearn: 0.2195358\ttotal: 728ms\tremaining: 1.78s\n",
      "87:\tlearn: 0.2195262\ttotal: 735ms\tremaining: 1.77s\n",
      "88:\tlearn: 0.2195105\ttotal: 742ms\tremaining: 1.76s\n",
      "89:\tlearn: 0.2195043\ttotal: 751ms\tremaining: 1.75s\n",
      "90:\tlearn: 0.2194761\ttotal: 759ms\tremaining: 1.74s\n",
      "91:\tlearn: 0.2194600\ttotal: 767ms\tremaining: 1.73s\n",
      "92:\tlearn: 0.2194471\ttotal: 774ms\tremaining: 1.72s\n",
      "93:\tlearn: 0.2194307\ttotal: 783ms\tremaining: 1.72s\n",
      "94:\tlearn: 0.2194109\ttotal: 789ms\tremaining: 1.7s\n",
      "95:\tlearn: 0.2193865\ttotal: 796ms\tremaining: 1.69s\n",
      "96:\tlearn: 0.2193774\ttotal: 803ms\tremaining: 1.68s\n",
      "97:\tlearn: 0.2193701\ttotal: 810ms\tremaining: 1.67s\n",
      "98:\tlearn: 0.2193476\ttotal: 816ms\tremaining: 1.66s\n",
      "99:\tlearn: 0.2193285\ttotal: 823ms\tremaining: 1.65s\n",
      "100:\tlearn: 0.2192976\ttotal: 829ms\tremaining: 1.63s\n",
      "101:\tlearn: 0.2192898\ttotal: 835ms\tremaining: 1.62s\n",
      "102:\tlearn: 0.2192828\ttotal: 852ms\tremaining: 1.63s\n",
      "103:\tlearn: 0.2192766\ttotal: 869ms\tremaining: 1.64s\n",
      "104:\tlearn: 0.2192633\ttotal: 886ms\tremaining: 1.65s\n",
      "105:\tlearn: 0.2192425\ttotal: 907ms\tremaining: 1.66s\n",
      "106:\tlearn: 0.2192401\ttotal: 927ms\tremaining: 1.67s\n",
      "107:\tlearn: 0.2192345\ttotal: 947ms\tremaining: 1.68s\n",
      "108:\tlearn: 0.2192098\ttotal: 967ms\tremaining: 1.69s\n",
      "109:\tlearn: 0.2191945\ttotal: 981ms\tremaining: 1.69s\n",
      "110:\tlearn: 0.2191745\ttotal: 991ms\tremaining: 1.69s\n",
      "111:\tlearn: 0.2191563\ttotal: 999ms\tremaining: 1.68s\n",
      "112:\tlearn: 0.2191413\ttotal: 1.01s\tremaining: 1.67s\n",
      "113:\tlearn: 0.2191135\ttotal: 1.02s\tremaining: 1.66s\n",
      "114:\tlearn: 0.2191031\ttotal: 1.03s\tremaining: 1.65s\n",
      "115:\tlearn: 0.2190842\ttotal: 1.03s\tremaining: 1.64s\n",
      "116:\tlearn: 0.2190650\ttotal: 1.04s\tremaining: 1.63s\n",
      "117:\tlearn: 0.2190504\ttotal: 1.05s\tremaining: 1.62s\n",
      "118:\tlearn: 0.2190320\ttotal: 1.06s\tremaining: 1.61s\n",
      "119:\tlearn: 0.2190198\ttotal: 1.06s\tremaining: 1.6s\n",
      "120:\tlearn: 0.2190176\ttotal: 1.07s\tremaining: 1.58s\n",
      "121:\tlearn: 0.2190020\ttotal: 1.08s\tremaining: 1.57s\n",
      "122:\tlearn: 0.2189822\ttotal: 1.08s\tremaining: 1.56s\n",
      "123:\tlearn: 0.2189588\ttotal: 1.09s\tremaining: 1.55s\n",
      "124:\tlearn: 0.2189345\ttotal: 1.1s\tremaining: 1.54s\n",
      "125:\tlearn: 0.2189280\ttotal: 1.11s\tremaining: 1.53s\n",
      "126:\tlearn: 0.2189147\ttotal: 1.12s\tremaining: 1.53s\n",
      "127:\tlearn: 0.2188947\ttotal: 1.13s\tremaining: 1.52s\n",
      "128:\tlearn: 0.2188796\ttotal: 1.14s\tremaining: 1.51s\n",
      "129:\tlearn: 0.2188659\ttotal: 1.15s\tremaining: 1.5s\n",
      "130:\tlearn: 0.2188450\ttotal: 1.15s\tremaining: 1.49s\n",
      "131:\tlearn: 0.2188284\ttotal: 1.16s\tremaining: 1.48s\n",
      "132:\tlearn: 0.2188162\ttotal: 1.17s\tremaining: 1.47s\n",
      "133:\tlearn: 0.2188111\ttotal: 1.18s\tremaining: 1.46s\n",
      "134:\tlearn: 0.2188037\ttotal: 1.19s\tremaining: 1.45s\n",
      "135:\tlearn: 0.2187948\ttotal: 1.19s\tremaining: 1.44s\n",
      "136:\tlearn: 0.2187808\ttotal: 1.2s\tremaining: 1.43s\n",
      "137:\tlearn: 0.2187742\ttotal: 1.21s\tremaining: 1.42s\n",
      "138:\tlearn: 0.2187629\ttotal: 1.22s\tremaining: 1.41s\n",
      "139:\tlearn: 0.2187497\ttotal: 1.22s\tremaining: 1.4s\n",
      "140:\tlearn: 0.2187372\ttotal: 1.23s\tremaining: 1.39s\n",
      "141:\tlearn: 0.2187333\ttotal: 1.24s\tremaining: 1.38s\n",
      "142:\tlearn: 0.2187230\ttotal: 1.24s\tremaining: 1.37s\n",
      "143:\tlearn: 0.2187147\ttotal: 1.25s\tremaining: 1.36s\n",
      "144:\tlearn: 0.2186997\ttotal: 1.26s\tremaining: 1.34s\n",
      "145:\tlearn: 0.2186898\ttotal: 1.27s\tremaining: 1.33s\n",
      "146:\tlearn: 0.2186856\ttotal: 1.27s\tremaining: 1.33s\n",
      "147:\tlearn: 0.2186699\ttotal: 1.28s\tremaining: 1.32s\n",
      "148:\tlearn: 0.2186653\ttotal: 1.29s\tremaining: 1.31s\n",
      "149:\tlearn: 0.2186430\ttotal: 1.29s\tremaining: 1.29s\n",
      "150:\tlearn: 0.2186260\ttotal: 1.3s\tremaining: 1.28s\n",
      "151:\tlearn: 0.2186060\ttotal: 1.31s\tremaining: 1.27s\n",
      "152:\tlearn: 0.2185960\ttotal: 1.31s\tremaining: 1.26s\n",
      "153:\tlearn: 0.2185852\ttotal: 1.32s\tremaining: 1.25s\n",
      "154:\tlearn: 0.2185627\ttotal: 1.33s\tremaining: 1.24s\n",
      "155:\tlearn: 0.2185468\ttotal: 1.33s\tremaining: 1.23s\n",
      "156:\tlearn: 0.2185244\ttotal: 1.34s\tremaining: 1.22s\n",
      "157:\tlearn: 0.2185120\ttotal: 1.34s\tremaining: 1.21s\n",
      "158:\tlearn: 0.2184934\ttotal: 1.35s\tremaining: 1.2s\n",
      "159:\tlearn: 0.2184896\ttotal: 1.36s\tremaining: 1.19s\n",
      "160:\tlearn: 0.2184818\ttotal: 1.36s\tremaining: 1.18s\n",
      "161:\tlearn: 0.2184733\ttotal: 1.37s\tremaining: 1.17s\n",
      "162:\tlearn: 0.2184629\ttotal: 1.38s\tremaining: 1.16s\n",
      "163:\tlearn: 0.2184506\ttotal: 1.38s\tremaining: 1.15s\n",
      "164:\tlearn: 0.2184358\ttotal: 1.39s\tremaining: 1.13s\n",
      "165:\tlearn: 0.2184206\ttotal: 1.39s\tremaining: 1.12s\n",
      "166:\tlearn: 0.2184067\ttotal: 1.4s\tremaining: 1.11s\n",
      "167:\tlearn: 0.2183955\ttotal: 1.4s\tremaining: 1.1s\n",
      "168:\tlearn: 0.2183922\ttotal: 1.41s\tremaining: 1.09s\n",
      "169:\tlearn: 0.2183828\ttotal: 1.42s\tremaining: 1.08s\n",
      "170:\tlearn: 0.2183731\ttotal: 1.42s\tremaining: 1.07s\n",
      "171:\tlearn: 0.2183603\ttotal: 1.43s\tremaining: 1.06s\n",
      "172:\tlearn: 0.2183514\ttotal: 1.44s\tremaining: 1.05s\n",
      "173:\tlearn: 0.2183408\ttotal: 1.44s\tremaining: 1.04s\n",
      "174:\tlearn: 0.2183270\ttotal: 1.45s\tremaining: 1.03s\n",
      "175:\tlearn: 0.2183079\ttotal: 1.46s\tremaining: 1.02s\n",
      "176:\tlearn: 0.2182914\ttotal: 1.46s\tremaining: 1.01s\n",
      "177:\tlearn: 0.2182807\ttotal: 1.47s\tremaining: 1.01s\n",
      "178:\tlearn: 0.2182627\ttotal: 1.47s\tremaining: 997ms\n",
      "179:\tlearn: 0.2182405\ttotal: 1.48s\tremaining: 987ms\n",
      "180:\tlearn: 0.2182351\ttotal: 1.49s\tremaining: 978ms\n",
      "181:\tlearn: 0.2182294\ttotal: 1.49s\tremaining: 968ms\n",
      "182:\tlearn: 0.2182177\ttotal: 1.5s\tremaining: 958ms\n",
      "183:\tlearn: 0.2182015\ttotal: 1.5s\tremaining: 949ms\n",
      "184:\tlearn: 0.2181897\ttotal: 1.51s\tremaining: 939ms\n",
      "185:\tlearn: 0.2181855\ttotal: 1.52s\tremaining: 930ms\n",
      "186:\tlearn: 0.2181742\ttotal: 1.52s\tremaining: 920ms\n",
      "187:\tlearn: 0.2181662\ttotal: 1.53s\tremaining: 911ms\n",
      "188:\tlearn: 0.2181544\ttotal: 1.53s\tremaining: 901ms\n",
      "189:\tlearn: 0.2181326\ttotal: 1.54s\tremaining: 892ms\n",
      "190:\tlearn: 0.2181189\ttotal: 1.55s\tremaining: 883ms\n",
      "191:\tlearn: 0.2181086\ttotal: 1.55s\tremaining: 874ms\n",
      "192:\tlearn: 0.2180894\ttotal: 1.56s\tremaining: 864ms\n",
      "193:\tlearn: 0.2180680\ttotal: 1.56s\tremaining: 855ms\n",
      "194:\tlearn: 0.2180579\ttotal: 1.57s\tremaining: 846ms\n",
      "195:\tlearn: 0.2180427\ttotal: 1.58s\tremaining: 837ms\n",
      "196:\tlearn: 0.2180389\ttotal: 1.58s\tremaining: 827ms\n",
      "197:\tlearn: 0.2180245\ttotal: 1.59s\tremaining: 818ms\n",
      "198:\tlearn: 0.2180141\ttotal: 1.59s\tremaining: 809ms\n",
      "199:\tlearn: 0.2180020\ttotal: 1.6s\tremaining: 800ms\n",
      "200:\tlearn: 0.2179968\ttotal: 1.61s\tremaining: 791ms\n",
      "201:\tlearn: 0.2179829\ttotal: 1.61s\tremaining: 783ms\n",
      "202:\tlearn: 0.2179723\ttotal: 1.62s\tremaining: 774ms\n",
      "203:\tlearn: 0.2179691\ttotal: 1.63s\tremaining: 765ms\n",
      "204:\tlearn: 0.2179567\ttotal: 1.63s\tremaining: 757ms\n",
      "205:\tlearn: 0.2179514\ttotal: 1.64s\tremaining: 748ms\n",
      "206:\tlearn: 0.2179459\ttotal: 1.64s\tremaining: 739ms\n",
      "207:\tlearn: 0.2179321\ttotal: 1.65s\tremaining: 730ms\n",
      "208:\tlearn: 0.2179207\ttotal: 1.66s\tremaining: 721ms\n",
      "209:\tlearn: 0.2179103\ttotal: 1.66s\tremaining: 712ms\n",
      "210:\tlearn: 0.2178941\ttotal: 1.67s\tremaining: 704ms\n",
      "211:\tlearn: 0.2178899\ttotal: 1.67s\tremaining: 695ms\n",
      "212:\tlearn: 0.2178697\ttotal: 1.68s\tremaining: 687ms\n",
      "213:\tlearn: 0.2178567\ttotal: 1.69s\tremaining: 678ms\n",
      "214:\tlearn: 0.2178470\ttotal: 1.69s\tremaining: 670ms\n",
      "215:\tlearn: 0.2178345\ttotal: 1.7s\tremaining: 661ms\n",
      "216:\tlearn: 0.2178236\ttotal: 1.71s\tremaining: 653ms\n",
      "217:\tlearn: 0.2178089\ttotal: 1.71s\tremaining: 644ms\n",
      "218:\tlearn: 0.2178086\ttotal: 1.72s\tremaining: 635ms\n",
      "219:\tlearn: 0.2178058\ttotal: 1.72s\tremaining: 627ms\n",
      "220:\tlearn: 0.2177944\ttotal: 1.73s\tremaining: 618ms\n",
      "221:\tlearn: 0.2177859\ttotal: 1.73s\tremaining: 609ms\n",
      "222:\tlearn: 0.2177725\ttotal: 1.74s\tremaining: 601ms\n",
      "223:\tlearn: 0.2177722\ttotal: 1.75s\tremaining: 592ms\n",
      "224:\tlearn: 0.2177532\ttotal: 1.75s\tremaining: 584ms\n",
      "225:\tlearn: 0.2177359\ttotal: 1.76s\tremaining: 575ms\n",
      "226:\tlearn: 0.2177250\ttotal: 1.76s\tremaining: 567ms\n",
      "227:\tlearn: 0.2177090\ttotal: 1.77s\tremaining: 558ms\n",
      "228:\tlearn: 0.2176842\ttotal: 1.77s\tremaining: 550ms\n",
      "229:\tlearn: 0.2176840\ttotal: 1.78s\tremaining: 542ms\n",
      "230:\tlearn: 0.2176698\ttotal: 1.79s\tremaining: 534ms\n",
      "231:\tlearn: 0.2176510\ttotal: 1.79s\tremaining: 526ms\n",
      "232:\tlearn: 0.2176414\ttotal: 1.8s\tremaining: 518ms\n",
      "233:\tlearn: 0.2176376\ttotal: 1.8s\tremaining: 509ms\n",
      "234:\tlearn: 0.2176221\ttotal: 1.81s\tremaining: 501ms\n",
      "235:\tlearn: 0.2176055\ttotal: 1.82s\tremaining: 493ms\n",
      "236:\tlearn: 0.2175901\ttotal: 1.82s\tremaining: 485ms\n",
      "237:\tlearn: 0.2175875\ttotal: 1.83s\tremaining: 477ms\n",
      "238:\tlearn: 0.2175795\ttotal: 1.83s\tremaining: 468ms\n",
      "239:\tlearn: 0.2175607\ttotal: 1.84s\tremaining: 460ms\n",
      "240:\tlearn: 0.2175404\ttotal: 1.85s\tremaining: 452ms\n",
      "241:\tlearn: 0.2175278\ttotal: 1.85s\tremaining: 444ms\n",
      "242:\tlearn: 0.2175225\ttotal: 1.86s\tremaining: 436ms\n",
      "243:\tlearn: 0.2175103\ttotal: 1.86s\tremaining: 428ms\n",
      "244:\tlearn: 0.2174969\ttotal: 1.87s\tremaining: 420ms\n",
      "245:\tlearn: 0.2174751\ttotal: 1.88s\tremaining: 412ms\n",
      "246:\tlearn: 0.2174693\ttotal: 1.88s\tremaining: 404ms\n",
      "247:\tlearn: 0.2174657\ttotal: 1.89s\tremaining: 396ms\n",
      "248:\tlearn: 0.2174528\ttotal: 1.89s\tremaining: 388ms\n",
      "249:\tlearn: 0.2174333\ttotal: 1.9s\tremaining: 380ms\n",
      "250:\tlearn: 0.2174204\ttotal: 1.9s\tremaining: 372ms\n",
      "251:\tlearn: 0.2174167\ttotal: 1.91s\tremaining: 364ms\n",
      "252:\tlearn: 0.2173967\ttotal: 1.92s\tremaining: 356ms\n",
      "253:\tlearn: 0.2173809\ttotal: 1.92s\tremaining: 348ms\n",
      "254:\tlearn: 0.2173678\ttotal: 1.93s\tremaining: 340ms\n",
      "255:\tlearn: 0.2173541\ttotal: 1.94s\tremaining: 333ms\n",
      "256:\tlearn: 0.2173382\ttotal: 1.94s\tremaining: 325ms\n",
      "257:\tlearn: 0.2173379\ttotal: 1.95s\tremaining: 317ms\n",
      "258:\tlearn: 0.2173273\ttotal: 1.96s\tremaining: 310ms\n",
      "259:\tlearn: 0.2173125\ttotal: 1.96s\tremaining: 302ms\n",
      "260:\tlearn: 0.2173028\ttotal: 1.97s\tremaining: 295ms\n",
      "261:\tlearn: 0.2172874\ttotal: 1.98s\tremaining: 287ms\n",
      "262:\tlearn: 0.2172803\ttotal: 1.99s\tremaining: 279ms\n",
      "263:\tlearn: 0.2172667\ttotal: 1.99s\tremaining: 272ms\n",
      "264:\tlearn: 0.2172598\ttotal: 2s\tremaining: 264ms\n",
      "265:\tlearn: 0.2172539\ttotal: 2.01s\tremaining: 257ms\n",
      "266:\tlearn: 0.2172375\ttotal: 2.01s\tremaining: 249ms\n",
      "267:\tlearn: 0.2172185\ttotal: 2.02s\tremaining: 241ms\n",
      "268:\tlearn: 0.2172087\ttotal: 2.03s\tremaining: 234ms\n",
      "269:\tlearn: 0.2171976\ttotal: 2.03s\tremaining: 226ms\n",
      "270:\tlearn: 0.2171881\ttotal: 2.04s\tremaining: 218ms\n",
      "271:\tlearn: 0.2171707\ttotal: 2.05s\tremaining: 211ms\n",
      "272:\tlearn: 0.2171574\ttotal: 2.06s\tremaining: 203ms\n",
      "273:\tlearn: 0.2171459\ttotal: 2.06s\tremaining: 196ms\n",
      "274:\tlearn: 0.2171383\ttotal: 2.07s\tremaining: 188ms\n",
      "275:\tlearn: 0.2171304\ttotal: 2.08s\tremaining: 181ms\n",
      "276:\tlearn: 0.2171302\ttotal: 2.08s\tremaining: 173ms\n",
      "277:\tlearn: 0.2171190\ttotal: 2.09s\tremaining: 165ms\n",
      "278:\tlearn: 0.2171083\ttotal: 2.1s\tremaining: 158ms\n",
      "279:\tlearn: 0.2170914\ttotal: 2.1s\tremaining: 150ms\n",
      "280:\tlearn: 0.2170701\ttotal: 2.11s\tremaining: 143ms\n",
      "281:\tlearn: 0.2170530\ttotal: 2.12s\tremaining: 135ms\n",
      "282:\tlearn: 0.2170455\ttotal: 2.12s\tremaining: 128ms\n",
      "283:\tlearn: 0.2170418\ttotal: 2.13s\tremaining: 120ms\n",
      "284:\tlearn: 0.2170342\ttotal: 2.14s\tremaining: 113ms\n",
      "285:\tlearn: 0.2170203\ttotal: 2.15s\tremaining: 105ms\n",
      "286:\tlearn: 0.2170170\ttotal: 2.15s\tremaining: 97.6ms\n",
      "287:\tlearn: 0.2170094\ttotal: 2.16s\tremaining: 90.1ms\n",
      "288:\tlearn: 0.2170017\ttotal: 2.17s\tremaining: 82.6ms\n",
      "289:\tlearn: 0.2169847\ttotal: 2.18s\tremaining: 75.1ms\n",
      "290:\tlearn: 0.2169764\ttotal: 2.18s\tremaining: 67.6ms\n",
      "291:\tlearn: 0.2169633\ttotal: 2.19s\tremaining: 60ms\n",
      "292:\tlearn: 0.2169499\ttotal: 2.2s\tremaining: 52.5ms\n",
      "293:\tlearn: 0.2169300\ttotal: 2.2s\tremaining: 45ms\n",
      "294:\tlearn: 0.2169205\ttotal: 2.21s\tremaining: 37.5ms\n",
      "295:\tlearn: 0.2169120\ttotal: 2.22s\tremaining: 29.9ms\n",
      "296:\tlearn: 0.2168987\ttotal: 2.22s\tremaining: 22.4ms\n",
      "297:\tlearn: 0.2168858\ttotal: 2.23s\tremaining: 15ms\n",
      "298:\tlearn: 0.2168822\ttotal: 2.23s\tremaining: 7.47ms\n",
      "299:\tlearn: 0.2168655\ttotal: 2.24s\tremaining: 0us\n"
     ]
    },
    {
     "data": {
      "text/plain": [
       "<catboost.core.CatBoostRegressor at 0x24bc037e9a0>"
      ]
     },
     "execution_count": 137,
     "metadata": {},
     "output_type": "execute_result"
    }
   ],
   "source": [
    "# fitting the model on x_train and y_train\n",
    "cbr.fit(x_train, y_train)"
   ]
  },
  {
   "cell_type": "code",
   "execution_count": 138,
   "metadata": {},
   "outputs": [],
   "source": [
    "# making prediction on validation set\n",
    "prediction= cbr.predict(x_val)"
   ]
  },
  {
   "cell_type": "code",
   "execution_count": 139,
   "metadata": {},
   "outputs": [
    {
     "data": {
      "text/plain": [
       "0.1361667015820945"
      ]
     },
     "execution_count": 139,
     "metadata": {},
     "output_type": "execute_result"
    }
   ],
   "source": [
    "# calculating rmse of the predicted values\n",
    "rmse(y_val,prediction)"
   ]
  },
  {
   "cell_type": "code",
   "execution_count": 140,
   "metadata": {},
   "outputs": [],
   "source": [
    "# applying the better model on testing data \n",
    "final_prediction= cbr.predict(test)"
   ]
  },
  {
   "cell_type": "code",
   "execution_count": 141,
   "metadata": {},
   "outputs": [
    {
     "data": {
      "text/plain": [
       "(34224,)"
      ]
     },
     "execution_count": 141,
     "metadata": {},
     "output_type": "execute_result"
    }
   ],
   "source": [
    "# checking the shape of final prediction\n",
    "final_prediction.shape"
   ]
  },
  {
   "cell_type": "code",
   "execution_count": 142,
   "metadata": {},
   "outputs": [],
   "source": [
    "submission= pd.DataFrame()"
   ]
  },
  {
   "cell_type": "code",
   "execution_count": 143,
   "metadata": {},
   "outputs": [],
   "source": [
    "# creating a id column\n",
    "submission['id'] = test['id']"
   ]
  },
  {
   "cell_type": "code",
   "execution_count": 144,
   "metadata": {},
   "outputs": [],
   "source": [
    "# creating a target column and saving the predictions in it\n",
    "submission['target'] = final_prediction"
   ]
  },
  {
   "cell_type": "code",
   "execution_count": 145,
   "metadata": {},
   "outputs": [],
   "source": [
    "submission.to_csv('submission_shreekar.csv', header=True, index=False)"
   ]
  },
  {
   "cell_type": "code",
   "execution_count": 146,
   "metadata": {},
   "outputs": [],
   "source": [
    "sub= pd.read_csv('submission_shreekar.csv')"
   ]
  },
  {
   "cell_type": "code",
   "execution_count": 147,
   "metadata": {},
   "outputs": [
    {
     "data": {
      "text/html": [
       "<div>\n",
       "<style scoped>\n",
       "    .dataframe tbody tr th:only-of-type {\n",
       "        vertical-align: middle;\n",
       "    }\n",
       "\n",
       "    .dataframe tbody tr th {\n",
       "        vertical-align: top;\n",
       "    }\n",
       "\n",
       "    .dataframe thead th {\n",
       "        text-align: right;\n",
       "    }\n",
       "</style>\n",
       "<table border=\"1\" class=\"dataframe\">\n",
       "  <thead>\n",
       "    <tr style=\"text-align: right;\">\n",
       "      <th></th>\n",
       "      <th>id</th>\n",
       "      <th>target</th>\n",
       "    </tr>\n",
       "  </thead>\n",
       "  <tbody>\n",
       "    <tr>\n",
       "      <th>0</th>\n",
       "      <td>649</td>\n",
       "      <td>0.994799</td>\n",
       "    </tr>\n",
       "    <tr>\n",
       "      <th>1</th>\n",
       "      <td>81136</td>\n",
       "      <td>0.989462</td>\n",
       "    </tr>\n",
       "    <tr>\n",
       "      <th>2</th>\n",
       "      <td>70762</td>\n",
       "      <td>0.816033</td>\n",
       "    </tr>\n",
       "    <tr>\n",
       "      <th>3</th>\n",
       "      <td>53935</td>\n",
       "      <td>0.979002</td>\n",
       "    </tr>\n",
       "    <tr>\n",
       "      <th>4</th>\n",
       "      <td>15476</td>\n",
       "      <td>0.951624</td>\n",
       "    </tr>\n",
       "  </tbody>\n",
       "</table>\n",
       "</div>"
      ],
      "text/plain": [
       "      id    target\n",
       "0    649  0.994799\n",
       "1  81136  0.989462\n",
       "2  70762  0.816033\n",
       "3  53935  0.979002\n",
       "4  15476  0.951624"
      ]
     },
     "execution_count": 147,
     "metadata": {},
     "output_type": "execute_result"
    }
   ],
   "source": [
    "sub.head()"
   ]
  },
  {
   "cell_type": "code",
   "execution_count": null,
   "metadata": {},
   "outputs": [],
   "source": []
  },
  {
   "cell_type": "code",
   "execution_count": null,
   "metadata": {},
   "outputs": [],
   "source": []
  },
  {
   "cell_type": "code",
   "execution_count": null,
   "metadata": {},
   "outputs": [],
   "source": []
  }
 ],
 "metadata": {
  "kernelspec": {
   "display_name": "Python 3",
   "language": "python",
   "name": "python3"
  },
  "language_info": {
   "codemirror_mode": {
    "name": "ipython",
    "version": 3
   },
   "file_extension": ".py",
   "mimetype": "text/x-python",
   "name": "python",
   "nbconvert_exporter": "python",
   "pygments_lexer": "ipython3",
   "version": "3.8.5"
  }
 },
 "nbformat": 4,
 "nbformat_minor": 4
}
